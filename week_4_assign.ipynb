{
  "metadata": {
    "kernelspec": {
      "name": "python",
      "display_name": "Pyolite",
      "language": "python"
    },
    "language_info": {
      "codemirror_mode": {
        "name": "python",
        "version": 3
      },
      "file_extension": ".py",
      "mimetype": "text/x-python",
      "name": "python",
      "nbconvert_exporter": "python",
      "pygments_lexer": "ipython3",
      "version": "3.8"
    }
  },
  "nbformat_minor": 4,
  "nbformat": 4,
  "cells": [
    {
      "cell_type": "markdown",
      "source": "<center>\n    <img src=\"https://s3-api.us-geo.objectstorage.softlayer.net/cf-courses-data/CognitiveClass/Logos/organization_logo/organization_logo.png\" width=\"300\" alt=\"cognitiveclass.ai logo\"  />\n</center>\n",
      "metadata": {}
    },
    {
      "cell_type": "markdown",
      "source": "# My Jupyter Notebook on IBM Watson Studio",
      "metadata": {}
    },
    {
      "cell_type": "markdown",
      "source": "**Dereck Dowler**\\\nPhysical Education Teacher",
      "metadata": {}
    },
    {
      "cell_type": "markdown",
      "source": "*I am currently a Physical Education teacher, but I started my professional life by obtaining a Mathematics degree.  I have always been interested in Mathematics and Computer Science.  I see Data science as the perfect marraige of these two fields.  I am currently looking to start a new career and hope this course leads to new opportunities.*",
      "metadata": {}
    },
    {
      "cell_type": "markdown",
      "source": "### The code in the next cell will print out the classic beginner's \"hello world\" text.",
      "metadata": {}
    },
    {
      "cell_type": "code",
      "source": "print(\"Hello, World\")",
      "metadata": {
        "trusted": true
      },
      "execution_count": 2,
      "outputs": [
        {
          "name": "stdout",
          "text": "Hello, World\n",
          "output_type": "stream"
        }
      ]
    },
    {
      "cell_type": "markdown",
      "source": "|Format Type|Content|\n|-----------|-------|\n|Bulleted List| <ul><li>item 1</li><li>item 2</li><li>item 3</li></ul>|\n|hyperlink|[coursera](http://coursera.org)|",
      "metadata": {}
    }
  ]
}